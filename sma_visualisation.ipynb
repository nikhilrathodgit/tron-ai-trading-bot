{
 "cells": [
  {
   "cell_type": "markdown",
   "id": "30443619",
   "metadata": {},
   "source": [
    "I am testing the SMA crossover by creating a visualisation here. This file is redundant to the functionality of the bot."
   ]
  },
  {
   "cell_type": "code",
   "execution_count": null,
   "id": "d36386ee",
   "metadata": {},
   "outputs": [
    {
     "ename": "",
     "evalue": "",
     "output_type": "error",
     "traceback": [
      "\u001b[1;31mRunning cells with 'venv (Python 3.12.4)' requires the ipykernel package.\n",
      "\u001b[1;31mInstall 'ipykernel' into the Python environment. \n",
      "\u001b[1;31mCommand: 'c:/Users/nikhi/OneDrive/Documents/Work/QF/Computation/tron-ai-trading-bot/venv/Scripts/python.exe -m pip install ipykernel -U --force-reinstall'"
     ]
    }
   ],
   "source": [
    "import ccxt\n",
    "import pandas as pd\n",
    "\n",
    "# Step 1: Get BTC data\n",
    "exchange = ccxt.binance()\n",
    "ohlcv = exchange.fetch_ohlcv('BTC/USDT', '1h', limit=50)\n",
    "\n",
    "# Step 2: Convert to DataFrame\n",
    "df = pd.DataFrame(ohlcv, columns=['timestamp','open','high','low','close','volume'])\n",
    "\n",
    "# Step 3: Calculate SMAs\n",
    "df['SMA10'] = df['close'].rolling(10).mean()\n",
    "df['SMA30'] = df['close'].rolling(30).mean()\n",
    "\n",
    "# Step 4: Generate signals (1 = Buy, -1 = Sell, 0 = No Action)\n",
    "df['Signal'] = 0\n",
    "df.loc[df['SMA10'] > df['SMA30'], 'Signal'] = 1\n",
    "df.loc[df['SMA10'] < df['SMA30'], 'Signal'] = -1\n",
    "\n",
    "# Step 5: Print last 5 rows\n",
    "print(df.tail())\n"
   ]
  },
  {
   "cell_type": "code",
   "execution_count": null,
   "id": "a0318a93",
   "metadata": {},
   "outputs": [],
   "source": [
    "import matplotlib.pyplot as plt\n",
    "\n",
    "# Convert timestamp to human-readable dates\n",
    "df['date'] = pd.to_datetime(df['timestamp'], unit='ms')\n",
    "\n",
    "plt.figure(figsize=(12,6))\n",
    "\n",
    "# Plot closing prices\n",
    "plt.plot(df['date'], df['close'], label='BTC/USDT Close', color='black', alpha=0.6)\n",
    "\n",
    "# Plot SMAs\n",
    "plt.plot(df['date'], df['SMA10'], label='SMA10', color='blue')\n",
    "plt.plot(df['date'], df['SMA30'], label='SMA30', color='red')\n",
    "\n",
    "# Mark Buy (green) and Sell (red) signals\n",
    "plt.scatter(df['date'][df['Signal'] == 1], df['close'][df['Signal'] == 1], label='Buy', marker='^', color='green', s=100)\n",
    "plt.scatter(df['date'][df['Signal'] == -1], df['close'][df['Signal'] == -1], label='Sell', marker='v', color='red', s=100)\n",
    "\n",
    "plt.title('BTC/USDT SMA Crossover Strategy')\n",
    "plt.xlabel('Date')\n",
    "plt.ylabel('Price (USDT)')\n",
    "plt.legend()\n",
    "plt.grid(True)\n",
    "plt.show()\n"
   ]
  }
 ],
 "metadata": {
  "kernelspec": {
   "display_name": "venv",
   "language": "python",
   "name": "python3"
  },
  "language_info": {
   "name": "python",
   "version": "3.12.4"
  }
 },
 "nbformat": 4,
 "nbformat_minor": 5
}
